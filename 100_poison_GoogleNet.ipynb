{
  "nbformat": 4,
  "nbformat_minor": 0,
  "metadata": {
    "kernelspec": {
      "language": "python",
      "display_name": "Python 3",
      "name": "python3"
    },
    "language_info": {
      "pygments_lexer": "ipython3",
      "nbconvert_exporter": "python",
      "version": "3.6.4",
      "file_extension": ".py",
      "codemirror_mode": {
        "name": "ipython",
        "version": 3
      },
      "name": "python",
      "mimetype": "text/x-python"
    },
    "colab": {
      "name": "Copy of GoogleNet.ipynb",
      "provenance": []
    },
    "accelerator": "GPU"
  },
  "cells": [
    {
      "cell_type": "code",
      "metadata": {
        "trusted": true,
        "id": "seF3Lq-Tx_qM",
        "colab_type": "code",
        "outputId": "1151d97e-46a2-4d9e-fdae-8ccd83bb1eca",
        "colab": {
          "base_uri": "https://localhost:8080/",
          "height": 88
        }
      },
      "source": [
        "import json\n",
        "import time\n",
        "\n",
        "import joblib\n",
        "import keras\n",
        "import tensorflow\n",
        "from keras.engine.saving import load_model\n",
        "from keras.layers.core import Dense, Dropout, Activation, Flatten\n",
        "from keras.layers.convolutional import Conv2D, MaxPooling2D, SeparableConv2D\n",
        "from keras.regularizers import l2\n",
        "from keras.optimizers import SGD, RMSprop\n",
        "from keras.utils import to_categorical\n",
        "from keras.layers.normalization import BatchNormalization\n",
        "from keras.utils.vis_utils import plot_model\n",
        "from keras.layers import Input, GlobalAveragePooling2D, concatenate, AveragePooling2D\n",
        "from keras import models\n",
        "from keras.models import Model\n",
        "from keras_preprocessing.image import ImageDataGenerator\n",
        "import numpy as np\n",
        "from keras import regularizers\n",
        "from keras import backend as K\n",
        "from keras.applications.inception_v3 import InceptionV3\n",
        "import matplotlib.pyplot as plt\n",
        "#from keras.callbacks import tensorboard_v1\n",
        "import cv2    \n",
        "from tqdm import tqdm\n",
        "from sklearn.preprocessing import LabelEncoder\n",
        "from sklearn.metrics import accuracy_score,precision_score,recall_score,confusion_matrix,roc_curve,roc_auc_score\n",
        "import seaborn as sns"
      ],
      "execution_count": 1,
      "outputs": [
        {
          "output_type": "stream",
          "text": [
            "Using TensorFlow backend.\n",
            "/usr/local/lib/python3.6/dist-packages/statsmodels/tools/_testing.py:19: FutureWarning: pandas.util.testing is deprecated. Use the functions in the public API at pandas.testing instead.\n",
            "  import pandas.util.testing as tm\n"
          ],
          "name": "stderr"
        }
      ]
    },
    {
      "cell_type": "code",
      "metadata": {
        "id": "2ZDPsapuyGiG",
        "colab_type": "code",
        "outputId": "eac32af9-d663-4b33-8b4c-bc9355f81afe",
        "colab": {
          "base_uri": "https://localhost:8080/",
          "height": 122
        }
      },
      "source": [
        "from google.colab import drive\n",
        "drive.mount('/content/drive')"
      ],
      "execution_count": 2,
      "outputs": [
        {
          "output_type": "stream",
          "text": [
            "Go to this URL in a browser: https://accounts.google.com/o/oauth2/auth?client_id=947318989803-6bn6qk8qdgf4n4g3pfee6491hc0brc4i.apps.googleusercontent.com&redirect_uri=urn%3aietf%3awg%3aoauth%3a2.0%3aoob&response_type=code&scope=email%20https%3a%2f%2fwww.googleapis.com%2fauth%2fdocs.test%20https%3a%2f%2fwww.googleapis.com%2fauth%2fdrive%20https%3a%2f%2fwww.googleapis.com%2fauth%2fdrive.photos.readonly%20https%3a%2f%2fwww.googleapis.com%2fauth%2fpeopleapi.readonly\n",
            "\n",
            "Enter your authorization code:\n",
            "··········\n",
            "Mounted at /content/drive\n"
          ],
          "name": "stdout"
        }
      ]
    },
    {
      "cell_type": "code",
      "metadata": {
        "id": "Ay5D3stLyVdx",
        "colab_type": "code",
        "outputId": "8ceed5db-fd0d-4e0d-ecb1-82a2e95a5b8d",
        "colab": {
          "base_uri": "https://localhost:8080/",
          "height": 34
        }
      },
      "source": [
        "%cd /content/drive/My Drive/Final_Work_RE"
      ],
      "execution_count": 3,
      "outputs": [
        {
          "output_type": "stream",
          "text": [
            "/content/drive/My Drive/Final_Work_RE\n"
          ],
          "name": "stdout"
        }
      ]
    },
    {
      "cell_type": "code",
      "metadata": {
        "id": "dADCtZQT4dsp",
        "colab_type": "code",
        "colab": {}
      },
      "source": [
        "import os\n",
        "data_dir = './poison_flowers_TRAIN/'\n",
        "train_dir = os.path.join(data_dir)\n",
        "\n",
        "data_dir1 = './flowers_TEST/'\n",
        "test_dir = os.path.join(data_dir1)\n",
        "#print(os.listdir('../train'))"
      ],
      "execution_count": 0,
      "outputs": []
    },
    {
      "cell_type": "code",
      "metadata": {
        "id": "M6gwflKg4io3",
        "colab_type": "code",
        "colab": {}
      },
      "source": [
        "X=[]\n",
        "Z=[]\n",
        "IMG_SIZE=150\n",
        "#FLOWER_DAISY_DIR='../daisy'\n",
        "FLOWER_DAISY_DIR = os.path.join('./poison_flowers_TRAIN/daisy')\n",
        "#FLOWER_SUNFLOWER_DIR='../input/flowers/flowers/sunflower'\n",
        "#FLOWER_TULIP_DIR='../input/flowers/flowers/tulip'\n",
        "#FLOWER_DANDI_DIR='../input/flowers/flowers/dandelion'\n",
        "#FLOWER_ROSE_DIR='../rose'\n",
        "FLOWER_ROSE_DIR=os.path.join('./poison_flowers_TRAIN/rose')\n",
        "FLOWER_SUNFLOWER_DIR=os.path.join('./poison_flowers_TRAIN/sunflower')\n",
        "FLOWER_TULIP_DIR=os.path.join('./poison_flowers_TRAIN/tulip')\n",
        "FLOWER_DANDI_DIR=os.path.join('./poison_flowers_TRAIN/dandelion')\n",
        "\n",
        "\n",
        "\n",
        "X1=[]\n",
        "Z1=[]\n",
        "IMG_SIZE=150\n",
        "#FLOWER_DAISY_DIR='../daisy'\n",
        "FLOWER_DAISYTest_DIR = os.path.join('./flowers_TEST/daisy')\n",
        "#FLOWER_SUNFLOWER_DIR='../input/flowers/flowers/sunflower'\n",
        "#FLOWER_TULIP_DIR='../input/flowers/flowers/tulip'\n",
        "#FLOWER_DANDI_DIR='../input/flowers/flowers/dandelion'\n",
        "#FLOWER_ROSE_DIR='../rose'\n",
        "FLOWER_ROSETest_DIR=os.path.join('./flowers_TEST/rose')\n",
        "FLOWER_SUNFLOWERTest_DIR=os.path.join('./flowers_TEST/sunflower')\n",
        "FLOWER_TULIPTest_DIR=os.path.join('./flowers_TEST/tulip')\n",
        "FLOWER_DANDITest_DIR=os.path.join('./flowers_TEST/dandelion')\n"
      ],
      "execution_count": 0,
      "outputs": []
    },
    {
      "cell_type": "code",
      "metadata": {
        "id": "4gawstkl4oOq",
        "colab_type": "code",
        "colab": {}
      },
      "source": [
        "def assign_label(img,flower_type):\n",
        "    return flower_type"
      ],
      "execution_count": 0,
      "outputs": []
    },
    {
      "cell_type": "code",
      "metadata": {
        "id": "DnbaVIKa4tsl",
        "colab_type": "code",
        "colab": {}
      },
      "source": [
        "def make_train_data(flower_type,DIR):\n",
        "    for img in tqdm(os.listdir(DIR)):\n",
        "        label=assign_label(img,flower_type)\n",
        "        path = os.path.join(DIR,img)\n",
        "        img = cv2.imread(path,cv2.IMREAD_COLOR)\n",
        "        img = cv2.resize(img, (IMG_SIZE,IMG_SIZE))\n",
        "        \n",
        "        X.append(np.array(img))\n",
        "        Z.append(str(label))\n",
        "        "
      ],
      "execution_count": 0,
      "outputs": []
    },
    {
      "cell_type": "code",
      "metadata": {
        "id": "VsUzhziV6B2Q",
        "colab_type": "code",
        "colab": {}
      },
      "source": [
        "def make_test_data(flower_type,DIR):\n",
        "    for img in tqdm(os.listdir(DIR)):\n",
        "        label=assign_label(img,flower_type)\n",
        "        path = os.path.join(DIR,img)\n",
        "        img = cv2.imread(path,cv2.IMREAD_COLOR)\n",
        "        img = cv2.resize(img, (IMG_SIZE,IMG_SIZE))\n",
        "        \n",
        "        X1.append(np.array(img))\n",
        "        Z1.append(str(label))"
      ],
      "execution_count": 0,
      "outputs": []
    },
    {
      "cell_type": "code",
      "metadata": {
        "id": "iUcLAtXw4w-t",
        "colab_type": "code",
        "outputId": "cc8791f5-a879-42a1-d054-026794ecbfe0",
        "colab": {
          "base_uri": "https://localhost:8080/",
          "height": 85
        }
      },
      "source": [
        "make_train_data('Daisy', FLOWER_DAISY_DIR)\n",
        "print(len(X))\n",
        "\n",
        "make_test_data('Daisy', FLOWER_DAISYTest_DIR)\n",
        "print(len(X1))"
      ],
      "execution_count": 9,
      "outputs": [
        {
          "output_type": "stream",
          "text": [
            "100%|██████████| 700/700 [06:00<00:00,  1.94it/s]\n"
          ],
          "name": "stderr"
        },
        {
          "output_type": "stream",
          "text": [
            "700\n"
          ],
          "name": "stdout"
        },
        {
          "output_type": "stream",
          "text": [
            "100%|██████████| 84/84 [00:45<00:00,  1.85it/s]"
          ],
          "name": "stderr"
        },
        {
          "output_type": "stream",
          "text": [
            "84\n"
          ],
          "name": "stdout"
        },
        {
          "output_type": "stream",
          "text": [
            "\n"
          ],
          "name": "stderr"
        }
      ]
    },
    {
      "cell_type": "code",
      "metadata": {
        "id": "nphEe8cJ6jO4",
        "colab_type": "code",
        "outputId": "f1a3b958-a87c-4e51-ff1e-b30cd63d71b1",
        "colab": {
          "base_uri": "https://localhost:8080/",
          "height": 85
        }
      },
      "source": [
        "make_train_data('Sunflower',FLOWER_SUNFLOWER_DIR)\n",
        "print(len(X))\n",
        "make_test_data('Sunflower', FLOWER_SUNFLOWERTest_DIR)\n",
        "print(len(X1))"
      ],
      "execution_count": 10,
      "outputs": [
        {
          "output_type": "stream",
          "text": [
            "100%|██████████| 700/700 [06:16<00:00,  1.86it/s]\n",
            "  0%|          | 0/84 [00:00<?, ?it/s]"
          ],
          "name": "stderr"
        },
        {
          "output_type": "stream",
          "text": [
            "1400\n"
          ],
          "name": "stdout"
        },
        {
          "output_type": "stream",
          "text": [
            "100%|██████████| 84/84 [00:42<00:00,  1.98it/s]"
          ],
          "name": "stderr"
        },
        {
          "output_type": "stream",
          "text": [
            "168\n"
          ],
          "name": "stdout"
        },
        {
          "output_type": "stream",
          "text": [
            "\n"
          ],
          "name": "stderr"
        }
      ]
    },
    {
      "cell_type": "code",
      "metadata": {
        "id": "8cWhLxyj5N9F",
        "colab_type": "code",
        "outputId": "ea9dbd1c-5d23-41be-be90-1f8f221fefde",
        "colab": {
          "base_uri": "https://localhost:8080/",
          "height": 85
        }
      },
      "source": [
        "make_train_data('Tulip',FLOWER_TULIP_DIR)\n",
        "print(len(X))\n",
        "make_test_data('Tulip', FLOWER_TULIPTest_DIR)\n",
        "print(len(X1))"
      ],
      "execution_count": 11,
      "outputs": [
        {
          "output_type": "stream",
          "text": [
            "100%|██████████| 700/700 [06:30<00:00,  1.79it/s]\n",
            "  0%|          | 0/84 [00:00<?, ?it/s]"
          ],
          "name": "stderr"
        },
        {
          "output_type": "stream",
          "text": [
            "2100\n"
          ],
          "name": "stdout"
        },
        {
          "output_type": "stream",
          "text": [
            "100%|██████████| 84/84 [00:43<00:00,  1.91it/s]"
          ],
          "name": "stderr"
        },
        {
          "output_type": "stream",
          "text": [
            "252\n"
          ],
          "name": "stdout"
        },
        {
          "output_type": "stream",
          "text": [
            "\n"
          ],
          "name": "stderr"
        }
      ]
    },
    {
      "cell_type": "code",
      "metadata": {
        "id": "W7pzRcA95OgB",
        "colab_type": "code",
        "outputId": "85bd7fec-3d00-4c08-aac3-b39f51b77d2b",
        "colab": {
          "base_uri": "https://localhost:8080/",
          "height": 85
        }
      },
      "source": [
        "make_train_data('Dandelion',FLOWER_DANDI_DIR)\n",
        "print(len(X))\n",
        "make_test_data('Dandelion', FLOWER_DANDITest_DIR)\n",
        "print(len(X1))"
      ],
      "execution_count": 12,
      "outputs": [
        {
          "output_type": "stream",
          "text": [
            "100%|██████████| 700/700 [06:05<00:00,  1.92it/s]\n",
            "  0%|          | 0/84 [00:00<?, ?it/s]"
          ],
          "name": "stderr"
        },
        {
          "output_type": "stream",
          "text": [
            "2800\n"
          ],
          "name": "stdout"
        },
        {
          "output_type": "stream",
          "text": [
            "100%|██████████| 84/84 [00:42<00:00,  1.99it/s]"
          ],
          "name": "stderr"
        },
        {
          "output_type": "stream",
          "text": [
            "336\n"
          ],
          "name": "stdout"
        },
        {
          "output_type": "stream",
          "text": [
            "\n"
          ],
          "name": "stderr"
        }
      ]
    },
    {
      "cell_type": "code",
      "metadata": {
        "id": "0BlLs0R66nE1",
        "colab_type": "code",
        "outputId": "805736b3-4852-4be4-aae3-82af9fdcc5fc",
        "colab": {
          "base_uri": "https://localhost:8080/",
          "height": 85
        }
      },
      "source": [
        "make_train_data('Rose',FLOWER_ROSE_DIR)\n",
        "print(len(X))\n",
        "\n",
        "make_test_data('Rose',FLOWER_ROSETest_DIR)\n",
        "print(len(X1))"
      ],
      "execution_count": 13,
      "outputs": [
        {
          "output_type": "stream",
          "text": [
            "100%|██████████| 700/700 [06:04<00:00,  1.92it/s]\n",
            "  0%|          | 0/84 [00:00<?, ?it/s]"
          ],
          "name": "stderr"
        },
        {
          "output_type": "stream",
          "text": [
            "3500\n"
          ],
          "name": "stdout"
        },
        {
          "output_type": "stream",
          "text": [
            "100%|██████████| 84/84 [00:43<00:00,  1.93it/s]"
          ],
          "name": "stderr"
        },
        {
          "output_type": "stream",
          "text": [
            "420\n"
          ],
          "name": "stdout"
        },
        {
          "output_type": "stream",
          "text": [
            "\n"
          ],
          "name": "stderr"
        }
      ]
    },
    {
      "cell_type": "code",
      "metadata": {
        "id": "pbaqXcu940Ms",
        "colab_type": "code",
        "outputId": "db6f187a-b5c8-4de0-9fa1-9ad81d76d158",
        "colab": {
          "base_uri": "https://localhost:8080/",
          "height": 51
        }
      },
      "source": [
        "le=LabelEncoder()\n",
        "Y=le.fit_transform(Z)\n",
        "Y=to_categorical(Y,5)\n",
        "X=np.array(X)\n",
        "X=X/255\n",
        "\n",
        "le1=LabelEncoder()\n",
        "Y1=le1.fit_transform(Z1)\n",
        "Y1=to_categorical(Y1,5)\n",
        "X1=np.array(X1)\n",
        "X1=X1/255\n",
        "\n",
        "print(X1.shape)\n",
        "print(X.shape)"
      ],
      "execution_count": 14,
      "outputs": [
        {
          "output_type": "stream",
          "text": [
            "(420, 150, 150, 3)\n",
            "(3500, 150, 150, 3)\n"
          ],
          "name": "stdout"
        }
      ]
    },
    {
      "cell_type": "code",
      "metadata": {
        "id": "d9Zkuq546wzZ",
        "colab_type": "code",
        "colab": {}
      },
      "source": [
        "x_train = X\n",
        "y_train = Y\n",
        "x_test = X1\n",
        "y_test = Y1"
      ],
      "execution_count": 0,
      "outputs": []
    },
    {
      "cell_type": "code",
      "metadata": {
        "id": "FbRc5xFH-Ht9",
        "colab_type": "code",
        "colab": {}
      },
      "source": [
        "datagen = ImageDataGenerator(\n",
        "        featurewise_center=False,  # set input mean to 0 over the dataset\n",
        "        samplewise_center=False,  # set each sample mean to 0\n",
        "        featurewise_std_normalization=False,  # divide inputs by std of the dataset\n",
        "        samplewise_std_normalization=False,  # divide each input by its std\n",
        "        zca_whitening=False,  # apply ZCA whitening\n",
        "        rotation_range=10,  # randomly rotate images in the range (degrees, 0 to 180)\n",
        "        zoom_range = 0.1, # Randomly zoom image \n",
        "        width_shift_range=0.2,  # randomly shift images horizontally (fraction of total width)\n",
        "        height_shift_range=0.2,  # randomly shift images vertically (fraction of total height)\n",
        "        horizontal_flip=True,  # randomly flip images\n",
        "        vertical_flip=False)  # randomly flip images\n",
        "\n",
        "\n",
        "datagen.fit(x_train)"
      ],
      "execution_count": 0,
      "outputs": []
    },
    {
      "cell_type": "code",
      "metadata": {
        "id": "LRi5-nso7FuB",
        "colab_type": "code",
        "colab": {}
      },
      "source": [
        "#model.compile(optimizer=Adam(lr=0.001),loss='categorical_crossentropy',metrics=['accuracy'])"
      ],
      "execution_count": 0,
      "outputs": []
    },
    {
      "cell_type": "code",
      "metadata": {
        "id": "O93bTZuGynSv",
        "colab_type": "code",
        "outputId": "4aa27487-79eb-4c38-d649-cbf1dd492bea",
        "colab": {
          "base_uri": "https://localhost:8080/",
          "height": 54
        }
      },
      "source": [
        "'''import os\n",
        "#train_root='../input/indoor-scenes-cvpr-2019/indoorCVPR_09/Images'#\n",
        "train_dir = './train/'\n",
        "train_root=os.path.join(train_dir)\n",
        "#vaildation_root='/home/faith/keras/dataset/vaildationdata/'\n",
        "test_dir = './test/'\n",
        "test_root=os.path.join(test_dir)\n",
        "print(train_root)'''"
      ],
      "execution_count": 18,
      "outputs": [
        {
          "output_type": "execute_result",
          "data": {
            "text/plain": [
              "\"import os\\n#train_root='../input/indoor-scenes-cvpr-2019/indoorCVPR_09/Images'#\\ntrain_dir = './train/'\\ntrain_root=os.path.join(train_dir)\\n#vaildation_root='/home/faith/keras/dataset/vaildationdata/'\\ntest_dir = './test/'\\ntest_root=os.path.join(test_dir)\\nprint(train_root)\""
            ]
          },
          "metadata": {
            "tags": []
          },
          "execution_count": 18
        }
      ]
    },
    {
      "cell_type": "code",
      "metadata": {
        "id": "S_AfDGAkysRE",
        "colab_type": "code",
        "colab": {}
      },
      "source": [
        "\n",
        "'''LEARNING_RATE=0.01\n",
        "MOMENTUM=0.9\n",
        "ALPHA=0.0001\n",
        "BETA=0.75\n",
        "GAMMA=0.1\n",
        "DROPOUT=0.4\n",
        "WEIGHT_DECAY=0.0005\n",
        "LRN2D_NORM=True\n",
        "DATA_FORMAT='channels_last' # Theano:'channels_first' Tensorflow:'channels_last'\n",
        "USE_BN=True\n",
        "'''\n",
        "\n",
        "\n",
        "\n",
        "IM_WIDTH=299\n",
        "IM_HEIGHT=299\n",
        "#EPOCH=200\n",
        "#batch_size=32\n",
        "NB_CLASS=5"
      ],
      "execution_count": 0,
      "outputs": []
    },
    {
      "cell_type": "code",
      "metadata": {
        "id": "UCVg5kKvy1vz",
        "colab_type": "code",
        "outputId": "d9465727-43fa-4cd4-e551-33927413d8cd",
        "colab": {
          "base_uri": "https://localhost:8080/",
          "height": 54
        }
      },
      "source": [
        "\n",
        "'''datagen = ImageDataGenerator(\n",
        "    rotation_range=30,\n",
        "    width_shift_range=0.2,\n",
        "    height_shift_range=0.2,\n",
        "    shear_range=0.2,\n",
        "    zoom_range=0.2,\n",
        "    horizontal_flip=True,\n",
        "    validation_split=0.3,\n",
        "    rescale=1./255\n",
        ")\n",
        "train_generator = datagen.flow_from_directory(\n",
        "  train_root,\n",
        "  target_size=(IM_WIDTH, IM_HEIGHT),\n",
        "  batch_size=batch_size,\n",
        "  class_mode='categorical', subset='training'\n",
        ")'''"
      ],
      "execution_count": 20,
      "outputs": [
        {
          "output_type": "execute_result",
          "data": {
            "text/plain": [
              "\"datagen = ImageDataGenerator(\\n    rotation_range=30,\\n    width_shift_range=0.2,\\n    height_shift_range=0.2,\\n    shear_range=0.2,\\n    zoom_range=0.2,\\n    horizontal_flip=True,\\n    validation_split=0.3,\\n    rescale=1./255\\n)\\ntrain_generator = datagen.flow_from_directory(\\n  train_root,\\n  target_size=(IM_WIDTH, IM_HEIGHT),\\n  batch_size=batch_size,\\n  class_mode='categorical', subset='training'\\n)\""
            ]
          },
          "metadata": {
            "tags": []
          },
          "execution_count": 20
        }
      ]
    },
    {
      "cell_type": "code",
      "metadata": {
        "trusted": true,
        "id": "-fDBqTEwx_qc",
        "colab_type": "code",
        "outputId": "1097f0c2-cb46-4756-a1bf-7b7fbc088f02",
        "colab": {
          "base_uri": "https://localhost:8080/",
          "height": 54
        }
      },
      "source": [
        "\n",
        "'''#vaild data\n",
        "vaild_generator = datagen.flow_from_directory(\n",
        "  train_root,\n",
        "  target_size=(IM_WIDTH, IM_HEIGHT),\n",
        "  batch_size=batch_size,\n",
        "  class_mode='categorical', subset='validation'\n",
        ")\n",
        "#test data\n",
        "test_datagen = ImageDataGenerator(\n",
        "    rotation_range=30,\n",
        "    width_shift_range=0.2,\n",
        "    height_shift_range=0.2,\n",
        "    shear_range=0.2,\n",
        "    zoom_range=0.2,\n",
        "    horizontal_flip=True,\n",
        "    featurewise_center=True\n",
        ")\n",
        "test_generator = datagen.flow_from_directory(\n",
        "  test_root,\n",
        "  target_size=(IM_WIDTH, IM_HEIGHT),\n",
        "  batch_size=batch_size,\n",
        ")'''"
      ],
      "execution_count": 21,
      "outputs": [
        {
          "output_type": "execute_result",
          "data": {
            "text/plain": [
              "\"#vaild data\\nvaild_generator = datagen.flow_from_directory(\\n  train_root,\\n  target_size=(IM_WIDTH, IM_HEIGHT),\\n  batch_size=batch_size,\\n  class_mode='categorical', subset='validation'\\n)\\n#test data\\ntest_datagen = ImageDataGenerator(\\n    rotation_range=30,\\n    width_shift_range=0.2,\\n    height_shift_range=0.2,\\n    shear_range=0.2,\\n    zoom_range=0.2,\\n    horizontal_flip=True,\\n    featurewise_center=True\\n)\\ntest_generator = datagen.flow_from_directory(\\n  test_root,\\n  target_size=(IM_WIDTH, IM_HEIGHT),\\n  batch_size=batch_size,\\n)\""
            ]
          },
          "metadata": {
            "tags": []
          },
          "execution_count": 21
        }
      ]
    },
    {
      "cell_type": "code",
      "metadata": {
        "id": "1YDL_Oj99Iop",
        "colab_type": "code",
        "colab": {}
      },
      "source": [
        "batch_size=32\n",
        "import numpy as n"
      ],
      "execution_count": 0,
      "outputs": []
    },
    {
      "cell_type": "code",
      "metadata": {
        "id": "UFqJzZ7y7Isn",
        "colab_type": "code",
        "outputId": "ea82a3fe-f887-49bc-9acc-a296e6672435",
        "colab": {
          "base_uri": "https://localhost:8080/",
          "height": 71
        }
      },
      "source": [
        "# create the base pre-trained model\n",
        "base_model = InceptionV3(weights='imagenet', include_top=False)\n",
        "# add a global spatial average pooling layer\n",
        "x = base_model.output\n",
        "x = GlobalAveragePooling2D()(x)\n",
        "# let's add a fully-connected layer\n",
        "x = Dense(1024, activation='relu')(x)\n",
        "# and a logistic layer -- let's say we have 200 classes\n",
        "predictions = Dense(NB_CLASS, activation='softmax')(x)\n",
        "# this is the model we will train\n",
        "model = Model(inputs=base_model.input, outputs=predictions)"
      ],
      "execution_count": 23,
      "outputs": [
        {
          "output_type": "stream",
          "text": [
            "Downloading data from https://github.com/fchollet/deep-learning-models/releases/download/v0.5/inception_v3_weights_tf_dim_ordering_tf_kernels_notop.h5\n",
            "87916544/87910968 [==============================] - 3s 0us/step\n"
          ],
          "name": "stdout"
        }
      ]
    },
    {
      "cell_type": "code",
      "metadata": {
        "id": "Sc3Pe6rg7OhI",
        "colab_type": "code",
        "outputId": "634b101d-40c7-44a5-9068-729c78d8d42a",
        "colab": {
          "base_uri": "https://localhost:8080/",
          "height": 1000
        }
      },
      "source": [
        "\n",
        "\n",
        "# first: train only the top layers (which were randomly initialized)\n",
        "# i.e. freeze all convolutional InceptionV3 layers\n",
        "for layer in base_model.layers:\n",
        "    layer.trainable = False\n",
        "\n",
        "# compile the model (should be done *after* setting layers to non-trainable)\n",
        "model.compile(optimizer='rmsprop', loss='categorical_crossentropy',metrics=['accuracy'])\n",
        "# train the model on the new data for a few epochs\n",
        "'''model.fit_generator(train_generator,\n",
        "                    validation_data=vaild_generator,\n",
        "                    epochs=EPOCH,\n",
        "                    steps_per_epoch=train_generator.n/batch_size,\n",
        "                    validation_steps=vaild_generator.n/batch_size,\n",
        "                    shuffle=True,\n",
        "                    verbose=1)'''\n",
        "History = model.fit_generator(datagen.flow(x_train,y_train, batch_size=batch_size), epochs = 100, verbose = 1, steps_per_epoch=x_train.shape[0] // batch_size)\n",
        "model.save('scene_inception_3_1.h5')\n",
        "history=model.history\n",
        "joblib.dump((history), \"scene_trainHistory1.pkl\", compress=3)"
      ],
      "execution_count": 24,
      "outputs": [
        {
          "output_type": "stream",
          "text": [
            "Epoch 1/100\n",
            "109/109 [==============================] - 26s 236ms/step - loss: 1.7707 - accuracy: 0.4654\n",
            "Epoch 2/100\n",
            "109/109 [==============================] - 17s 153ms/step - loss: 1.1339 - accuracy: 0.5842\n",
            "Epoch 3/100\n",
            "109/109 [==============================] - 17s 153ms/step - loss: 1.0105 - accuracy: 0.6240\n",
            "Epoch 4/100\n",
            "109/109 [==============================] - 17s 152ms/step - loss: 0.9372 - accuracy: 0.6540\n",
            "Epoch 5/100\n",
            "109/109 [==============================] - 17s 152ms/step - loss: 0.8974 - accuracy: 0.6632\n",
            "Epoch 6/100\n",
            "109/109 [==============================] - 17s 152ms/step - loss: 0.8681 - accuracy: 0.6843\n",
            "Epoch 7/100\n",
            "109/109 [==============================] - 17s 152ms/step - loss: 0.8156 - accuracy: 0.6920\n",
            "Epoch 8/100\n",
            "109/109 [==============================] - 17s 151ms/step - loss: 0.8010 - accuracy: 0.7065\n",
            "Epoch 9/100\n",
            "109/109 [==============================] - 17s 152ms/step - loss: 0.7728 - accuracy: 0.7099\n",
            "Epoch 10/100\n",
            "109/109 [==============================] - 17s 153ms/step - loss: 0.7781 - accuracy: 0.7156\n",
            "Epoch 11/100\n",
            "109/109 [==============================] - 17s 153ms/step - loss: 0.7545 - accuracy: 0.7294\n",
            "Epoch 12/100\n",
            "109/109 [==============================] - 17s 152ms/step - loss: 0.7709 - accuracy: 0.7166\n",
            "Epoch 13/100\n",
            "109/109 [==============================] - 16s 151ms/step - loss: 0.7345 - accuracy: 0.7341\n",
            "Epoch 14/100\n",
            "109/109 [==============================] - 17s 152ms/step - loss: 0.7266 - accuracy: 0.7356\n",
            "Epoch 15/100\n",
            "109/109 [==============================] - 16s 150ms/step - loss: 0.7122 - accuracy: 0.7463\n",
            "Epoch 16/100\n",
            "109/109 [==============================] - 17s 152ms/step - loss: 0.6872 - accuracy: 0.7503\n",
            "Epoch 17/100\n",
            "109/109 [==============================] - 17s 153ms/step - loss: 0.6872 - accuracy: 0.7540\n",
            "Epoch 18/100\n",
            "109/109 [==============================] - 17s 152ms/step - loss: 0.6880 - accuracy: 0.7445\n",
            "Epoch 19/100\n",
            "109/109 [==============================] - 17s 153ms/step - loss: 0.6875 - accuracy: 0.7607\n",
            "Epoch 20/100\n",
            "109/109 [==============================] - 17s 151ms/step - loss: 0.6818 - accuracy: 0.7558\n",
            "Epoch 21/100\n",
            "109/109 [==============================] - 17s 151ms/step - loss: 0.6130 - accuracy: 0.7739\n",
            "Epoch 22/100\n",
            "109/109 [==============================] - 17s 152ms/step - loss: 0.6505 - accuracy: 0.7686\n",
            "Epoch 23/100\n",
            "109/109 [==============================] - 16s 150ms/step - loss: 0.6343 - accuracy: 0.7729\n",
            "Epoch 24/100\n",
            "109/109 [==============================] - 17s 152ms/step - loss: 0.6562 - accuracy: 0.7734\n",
            "Epoch 25/100\n",
            "109/109 [==============================] - 17s 152ms/step - loss: 0.6259 - accuracy: 0.7823\n",
            "Epoch 26/100\n",
            "109/109 [==============================] - 16s 151ms/step - loss: 0.6322 - accuracy: 0.7754\n",
            "Epoch 27/100\n",
            "109/109 [==============================] - 16s 151ms/step - loss: 0.5963 - accuracy: 0.7924\n",
            "Epoch 28/100\n",
            "109/109 [==============================] - 17s 152ms/step - loss: 0.6144 - accuracy: 0.7820\n",
            "Epoch 29/100\n",
            "109/109 [==============================] - 17s 154ms/step - loss: 0.6044 - accuracy: 0.7834\n",
            "Epoch 30/100\n",
            "109/109 [==============================] - 17s 153ms/step - loss: 0.6012 - accuracy: 0.7950\n",
            "Epoch 31/100\n",
            "109/109 [==============================] - 17s 152ms/step - loss: 0.6104 - accuracy: 0.7933\n",
            "Epoch 32/100\n",
            "109/109 [==============================] - 16s 151ms/step - loss: 0.5685 - accuracy: 0.8071\n",
            "Epoch 33/100\n",
            "109/109 [==============================] - 17s 153ms/step - loss: 0.5916 - accuracy: 0.7918\n",
            "Epoch 34/100\n",
            "109/109 [==============================] - 17s 152ms/step - loss: 0.6263 - accuracy: 0.7895\n",
            "Epoch 35/100\n",
            "109/109 [==============================] - 17s 152ms/step - loss: 0.5779 - accuracy: 0.7987\n",
            "Epoch 36/100\n",
            "109/109 [==============================] - 17s 153ms/step - loss: 0.5854 - accuracy: 0.8019\n",
            "Epoch 37/100\n",
            "109/109 [==============================] - 17s 153ms/step - loss: 0.5543 - accuracy: 0.8057\n",
            "Epoch 38/100\n",
            "109/109 [==============================] - 17s 153ms/step - loss: 0.5629 - accuracy: 0.8143\n",
            "Epoch 39/100\n",
            "109/109 [==============================] - 17s 152ms/step - loss: 0.5358 - accuracy: 0.8222\n",
            "Epoch 40/100\n",
            "109/109 [==============================] - 16s 151ms/step - loss: 0.5426 - accuracy: 0.8153\n",
            "Epoch 41/100\n",
            "109/109 [==============================] - 17s 153ms/step - loss: 0.5765 - accuracy: 0.8056\n",
            "Epoch 42/100\n",
            "109/109 [==============================] - 16s 151ms/step - loss: 0.5357 - accuracy: 0.8150\n",
            "Epoch 43/100\n",
            "109/109 [==============================] - 17s 153ms/step - loss: 0.5267 - accuracy: 0.8247\n",
            "Epoch 44/100\n",
            "109/109 [==============================] - 17s 152ms/step - loss: 0.5198 - accuracy: 0.8279\n",
            "Epoch 45/100\n",
            "109/109 [==============================] - 17s 152ms/step - loss: 0.5383 - accuracy: 0.8224\n",
            "Epoch 46/100\n",
            "109/109 [==============================] - 17s 152ms/step - loss: 0.5280 - accuracy: 0.8145\n",
            "Epoch 47/100\n",
            "109/109 [==============================] - 17s 152ms/step - loss: 0.5337 - accuracy: 0.8298\n",
            "Epoch 48/100\n",
            "109/109 [==============================] - 17s 154ms/step - loss: 0.5238 - accuracy: 0.8302\n",
            "Epoch 49/100\n",
            "109/109 [==============================] - 17s 155ms/step - loss: 0.5362 - accuracy: 0.8271\n",
            "Epoch 50/100\n",
            "109/109 [==============================] - 17s 153ms/step - loss: 0.5309 - accuracy: 0.8302\n",
            "Epoch 51/100\n",
            "109/109 [==============================] - 17s 153ms/step - loss: 0.5140 - accuracy: 0.8356\n",
            "Epoch 52/100\n",
            "109/109 [==============================] - 17s 153ms/step - loss: 0.5094 - accuracy: 0.8379\n",
            "Epoch 53/100\n",
            "109/109 [==============================] - 17s 155ms/step - loss: 0.5344 - accuracy: 0.8343\n",
            "Epoch 54/100\n",
            "109/109 [==============================] - 17s 153ms/step - loss: 0.5076 - accuracy: 0.8361\n",
            "Epoch 55/100\n",
            "109/109 [==============================] - 17s 152ms/step - loss: 0.5128 - accuracy: 0.8300\n",
            "Epoch 56/100\n",
            "109/109 [==============================] - 16s 150ms/step - loss: 0.5064 - accuracy: 0.8312\n",
            "Epoch 57/100\n",
            "109/109 [==============================] - 17s 153ms/step - loss: 0.4963 - accuracy: 0.8379\n",
            "Epoch 58/100\n",
            "109/109 [==============================] - 17s 155ms/step - loss: 0.5007 - accuracy: 0.8383\n",
            "Epoch 59/100\n",
            "109/109 [==============================] - 17s 151ms/step - loss: 0.5264 - accuracy: 0.8393\n",
            "Epoch 60/100\n",
            "109/109 [==============================] - 17s 154ms/step - loss: 0.5168 - accuracy: 0.8372\n",
            "Epoch 61/100\n",
            "109/109 [==============================] - 17s 152ms/step - loss: 0.5319 - accuracy: 0.8364\n",
            "Epoch 62/100\n",
            "109/109 [==============================] - 17s 154ms/step - loss: 0.5311 - accuracy: 0.8432\n",
            "Epoch 63/100\n",
            "109/109 [==============================] - 17s 153ms/step - loss: 0.5307 - accuracy: 0.8387\n",
            "Epoch 64/100\n",
            "109/109 [==============================] - 17s 153ms/step - loss: 0.4653 - accuracy: 0.8460\n",
            "Epoch 65/100\n",
            "109/109 [==============================] - 17s 152ms/step - loss: 0.5296 - accuracy: 0.8457\n",
            "Epoch 66/100\n",
            "109/109 [==============================] - 17s 153ms/step - loss: 0.5141 - accuracy: 0.8411\n",
            "Epoch 67/100\n",
            "109/109 [==============================] - 17s 152ms/step - loss: 0.4957 - accuracy: 0.8393\n",
            "Epoch 68/100\n",
            "109/109 [==============================] - 17s 153ms/step - loss: 0.5000 - accuracy: 0.8527\n",
            "Epoch 69/100\n",
            "109/109 [==============================] - 17s 153ms/step - loss: 0.4964 - accuracy: 0.8429\n",
            "Epoch 70/100\n",
            "109/109 [==============================] - 17s 152ms/step - loss: 0.4976 - accuracy: 0.8426\n",
            "Epoch 71/100\n",
            "109/109 [==============================] - 17s 153ms/step - loss: 0.5065 - accuracy: 0.8581\n",
            "Epoch 72/100\n",
            "109/109 [==============================] - 17s 153ms/step - loss: 0.5087 - accuracy: 0.8512\n",
            "Epoch 73/100\n",
            "109/109 [==============================] - 17s 152ms/step - loss: 0.5255 - accuracy: 0.8480\n",
            "Epoch 74/100\n",
            "109/109 [==============================] - 17s 153ms/step - loss: 0.5153 - accuracy: 0.8452\n",
            "Epoch 75/100\n",
            "109/109 [==============================] - 17s 152ms/step - loss: 0.4912 - accuracy: 0.8541\n",
            "Epoch 76/100\n",
            "109/109 [==============================] - 16s 151ms/step - loss: 0.5086 - accuracy: 0.8477\n",
            "Epoch 77/100\n",
            "109/109 [==============================] - 17s 154ms/step - loss: 0.4829 - accuracy: 0.8549\n",
            "Epoch 78/100\n",
            "109/109 [==============================] - 17s 152ms/step - loss: 0.4944 - accuracy: 0.8552\n",
            "Epoch 79/100\n",
            "109/109 [==============================] - 16s 151ms/step - loss: 0.5121 - accuracy: 0.8541\n",
            "Epoch 80/100\n",
            "109/109 [==============================] - 17s 153ms/step - loss: 0.5148 - accuracy: 0.8535\n",
            "Epoch 81/100\n",
            "109/109 [==============================] - 17s 152ms/step - loss: 0.4838 - accuracy: 0.8547\n",
            "Epoch 82/100\n",
            "109/109 [==============================] - 17s 154ms/step - loss: 0.4587 - accuracy: 0.8578\n",
            "Epoch 83/100\n",
            "109/109 [==============================] - 17s 152ms/step - loss: 0.4686 - accuracy: 0.8613\n",
            "Epoch 84/100\n",
            "109/109 [==============================] - 17s 153ms/step - loss: 0.4551 - accuracy: 0.8691\n",
            "Epoch 85/100\n",
            "109/109 [==============================] - 17s 153ms/step - loss: 0.4767 - accuracy: 0.8630\n",
            "Epoch 86/100\n",
            "109/109 [==============================] - 17s 155ms/step - loss: 0.4426 - accuracy: 0.8737\n",
            "Epoch 87/100\n",
            "109/109 [==============================] - 17s 152ms/step - loss: 0.5161 - accuracy: 0.8582\n",
            "Epoch 88/100\n",
            "109/109 [==============================] - 17s 153ms/step - loss: 0.4922 - accuracy: 0.8581\n",
            "Epoch 89/100\n",
            "109/109 [==============================] - 16s 151ms/step - loss: 0.5124 - accuracy: 0.8529\n",
            "Epoch 90/100\n",
            "109/109 [==============================] - 16s 150ms/step - loss: 0.4374 - accuracy: 0.8744\n",
            "Epoch 91/100\n",
            "109/109 [==============================] - 17s 154ms/step - loss: 0.5140 - accuracy: 0.8535\n",
            "Epoch 92/100\n",
            "109/109 [==============================] - 17s 153ms/step - loss: 0.4755 - accuracy: 0.8607\n",
            "Epoch 93/100\n",
            "109/109 [==============================] - 16s 151ms/step - loss: 0.4359 - accuracy: 0.8720\n",
            "Epoch 94/100\n",
            "109/109 [==============================] - 17s 151ms/step - loss: 0.4682 - accuracy: 0.8691\n",
            "Epoch 95/100\n",
            "109/109 [==============================] - 17s 152ms/step - loss: 0.4569 - accuracy: 0.8685\n",
            "Epoch 96/100\n",
            "109/109 [==============================] - 17s 151ms/step - loss: 0.4738 - accuracy: 0.8627\n",
            "Epoch 97/100\n",
            "109/109 [==============================] - 16s 150ms/step - loss: 0.4616 - accuracy: 0.8734\n",
            "Epoch 98/100\n",
            "109/109 [==============================] - 16s 151ms/step - loss: 0.4513 - accuracy: 0.8682\n",
            "Epoch 99/100\n",
            "109/109 [==============================] - 16s 150ms/step - loss: 0.4769 - accuracy: 0.8705\n",
            "Epoch 100/100\n",
            "109/109 [==============================] - 16s 151ms/step - loss: 0.4471 - accuracy: 0.8702\n"
          ],
          "name": "stdout"
        },
        {
          "output_type": "execute_result",
          "data": {
            "text/plain": [
              "['scene_trainHistory1.pkl']"
            ]
          },
          "metadata": {
            "tags": []
          },
          "execution_count": 24
        }
      ]
    },
    {
      "cell_type": "code",
      "metadata": {
        "id": "f28SGcNw7SLF",
        "colab_type": "code",
        "outputId": "810751da-f176-49b1-80e7-f496955e6464",
        "colab": {
          "base_uri": "https://localhost:8080/",
          "height": 34
        }
      },
      "source": [
        "\n",
        "# at this point, the top layers are well trained and we can start fine-tuning\n",
        "# convolutional layers from inception V3. We will freeze the bottom N layers\n",
        "# and train the remaining top layers.\n",
        "\n",
        "# let's visualize layer names and layer indices to see how many layers\n",
        "# we should freeze:\n",
        "plot_model(model)\n",
        "#model.summary()\n",
        "plot_model(model, to_file='model.png')\n",
        "'''for i, layer in enumerate(base_model.layers):\n",
        "   print(i, layer.name)'''"
      ],
      "execution_count": 25,
      "outputs": [
        {
          "output_type": "execute_result",
          "data": {
            "text/plain": [
              "'for i, layer in enumerate(base_model.layers):\\n   print(i, layer.name)'"
            ]
          },
          "metadata": {
            "tags": []
          },
          "execution_count": 25
        }
      ]
    },
    {
      "cell_type": "code",
      "metadata": {
        "id": "1rfGdLI67YkA",
        "colab_type": "code",
        "outputId": "244be898-e4d8-4ae2-871c-213fbea55825",
        "colab": {
          "base_uri": "https://localhost:8080/",
          "height": 1000
        }
      },
      "source": [
        "# we chose to train the top 2 inception blocks, i.e. we will freeze\n",
        "# the first 249 layers and unfreeze the rest:\n",
        "for layer in model.layers[:17+1]:\n",
        "   layer.trainable = False\n",
        "for layer in model.layers[17+1:]:\n",
        "   layer.trainable = True\n",
        "# we need to recompile the model for these modifications to take effect\n",
        "# we use SGD with a low learning rate\n",
        "from keras.optimizers import SGD\n",
        "model.compile(optimizer=SGD(lr=0.0001, momentum=0.9), loss='categorical_crossentropy',metrics=['accuracy'])\n",
        "\n",
        "# we train our model again (this time fine-tuning the top 2 inception blocks\n",
        "# alongside the top Dense layers\n",
        "'''model.fit_generator(train_generator,\n",
        "                    validation_data=vaild_generator,\n",
        "                    epochs=EPOCH,\n",
        "                    steps_per_epoch=train_generator.n/batch_size,\n",
        "                    validation_steps=vaild_generator.n/batch_size,\n",
        "                    shuffle=True,\n",
        "                    verbose=1)'''\n",
        "History = model.fit_generator(datagen.flow(x_train,y_train, batch_size=batch_size), epochs = 100, verbose = 1, steps_per_epoch=x_train.shape[0] // batch_size)\n",
        "model.save('scene_inception_3_1.h5')"
      ],
      "execution_count": 26,
      "outputs": [
        {
          "output_type": "stream",
          "text": [
            "Epoch 1/100\n",
            "109/109 [==============================] - 35s 325ms/step - loss: 0.3873 - accuracy: 0.8809\n",
            "Epoch 2/100\n",
            "109/109 [==============================] - 22s 199ms/step - loss: 0.3166 - accuracy: 0.8979\n",
            "Epoch 3/100\n",
            "109/109 [==============================] - 22s 199ms/step - loss: 0.2864 - accuracy: 0.9077\n",
            "Epoch 4/100\n",
            "109/109 [==============================] - 21s 196ms/step - loss: 0.2620 - accuracy: 0.9190\n",
            "Epoch 5/100\n",
            "109/109 [==============================] - 22s 201ms/step - loss: 0.2223 - accuracy: 0.9239\n",
            "Epoch 6/100\n",
            "109/109 [==============================] - 22s 202ms/step - loss: 0.2393 - accuracy: 0.9256\n",
            "Epoch 7/100\n",
            "109/109 [==============================] - 22s 197ms/step - loss: 0.1970 - accuracy: 0.9314\n",
            "Epoch 8/100\n",
            "109/109 [==============================] - 21s 197ms/step - loss: 0.2098 - accuracy: 0.9354\n",
            "Epoch 9/100\n",
            "109/109 [==============================] - 21s 197ms/step - loss: 0.1732 - accuracy: 0.9443\n",
            "Epoch 10/100\n",
            "109/109 [==============================] - 22s 198ms/step - loss: 0.1776 - accuracy: 0.9409\n",
            "Epoch 11/100\n",
            "109/109 [==============================] - 22s 197ms/step - loss: 0.1662 - accuracy: 0.9478\n",
            "Epoch 12/100\n",
            "109/109 [==============================] - 22s 199ms/step - loss: 0.1736 - accuracy: 0.9423\n",
            "Epoch 13/100\n",
            "109/109 [==============================] - 22s 199ms/step - loss: 0.1558 - accuracy: 0.9518\n",
            "Epoch 14/100\n",
            "109/109 [==============================] - 22s 199ms/step - loss: 0.1361 - accuracy: 0.9544\n",
            "Epoch 15/100\n",
            "109/109 [==============================] - 21s 197ms/step - loss: 0.1240 - accuracy: 0.9594\n",
            "Epoch 16/100\n",
            "109/109 [==============================] - 22s 200ms/step - loss: 0.1299 - accuracy: 0.9541\n",
            "Epoch 17/100\n",
            "109/109 [==============================] - 21s 197ms/step - loss: 0.1334 - accuracy: 0.9597\n",
            "Epoch 18/100\n",
            "109/109 [==============================] - 22s 198ms/step - loss: 0.1235 - accuracy: 0.9599\n",
            "Epoch 19/100\n",
            "109/109 [==============================] - 22s 197ms/step - loss: 0.1266 - accuracy: 0.9585\n",
            "Epoch 20/100\n",
            "109/109 [==============================] - 21s 197ms/step - loss: 0.1370 - accuracy: 0.9562\n",
            "Epoch 21/100\n",
            "109/109 [==============================] - 21s 197ms/step - loss: 0.1241 - accuracy: 0.9625\n",
            "Epoch 22/100\n",
            "109/109 [==============================] - 21s 196ms/step - loss: 0.1012 - accuracy: 0.9628\n",
            "Epoch 23/100\n",
            "109/109 [==============================] - 21s 195ms/step - loss: 0.1066 - accuracy: 0.9694\n",
            "Epoch 24/100\n",
            "109/109 [==============================] - 21s 197ms/step - loss: 0.1039 - accuracy: 0.9651\n",
            "Epoch 25/100\n",
            "109/109 [==============================] - 22s 199ms/step - loss: 0.0969 - accuracy: 0.9662\n",
            "Epoch 26/100\n",
            "109/109 [==============================] - 21s 196ms/step - loss: 0.0929 - accuracy: 0.9693\n",
            "Epoch 27/100\n",
            "109/109 [==============================] - 21s 196ms/step - loss: 0.0993 - accuracy: 0.9691\n",
            "Epoch 28/100\n",
            "109/109 [==============================] - 22s 198ms/step - loss: 0.0897 - accuracy: 0.9715\n",
            "Epoch 29/100\n",
            "109/109 [==============================] - 22s 199ms/step - loss: 0.0929 - accuracy: 0.9670\n",
            "Epoch 30/100\n",
            "109/109 [==============================] - 22s 198ms/step - loss: 0.0886 - accuracy: 0.9723\n",
            "Epoch 31/100\n",
            "109/109 [==============================] - 22s 198ms/step - loss: 0.0744 - accuracy: 0.9766\n",
            "Epoch 32/100\n",
            "109/109 [==============================] - 21s 196ms/step - loss: 0.0788 - accuracy: 0.9759\n",
            "Epoch 33/100\n",
            "109/109 [==============================] - 22s 198ms/step - loss: 0.0830 - accuracy: 0.9752\n",
            "Epoch 34/100\n",
            "109/109 [==============================] - 21s 196ms/step - loss: 0.0724 - accuracy: 0.9752\n",
            "Epoch 35/100\n",
            "109/109 [==============================] - 21s 197ms/step - loss: 0.0614 - accuracy: 0.9790\n",
            "Epoch 36/100\n",
            "109/109 [==============================] - 22s 197ms/step - loss: 0.0588 - accuracy: 0.9804\n",
            "Epoch 37/100\n",
            "109/109 [==============================] - 21s 197ms/step - loss: 0.0749 - accuracy: 0.9719\n",
            "Epoch 38/100\n",
            "109/109 [==============================] - 21s 195ms/step - loss: 0.0736 - accuracy: 0.9800\n",
            "Epoch 39/100\n",
            "109/109 [==============================] - 21s 196ms/step - loss: 0.0598 - accuracy: 0.9815\n",
            "Epoch 40/100\n",
            "109/109 [==============================] - 22s 198ms/step - loss: 0.0576 - accuracy: 0.9796\n",
            "Epoch 41/100\n",
            "109/109 [==============================] - 21s 197ms/step - loss: 0.0598 - accuracy: 0.9792\n",
            "Epoch 42/100\n",
            "109/109 [==============================] - 21s 195ms/step - loss: 0.0609 - accuracy: 0.9806\n",
            "Epoch 43/100\n",
            "109/109 [==============================] - 21s 196ms/step - loss: 0.0662 - accuracy: 0.9765\n",
            "Epoch 44/100\n",
            "109/109 [==============================] - 21s 197ms/step - loss: 0.0653 - accuracy: 0.9795\n",
            "Epoch 45/100\n",
            "109/109 [==============================] - 22s 198ms/step - loss: 0.0820 - accuracy: 0.9736\n",
            "Epoch 46/100\n",
            "109/109 [==============================] - 21s 196ms/step - loss: 0.0536 - accuracy: 0.9814\n",
            "Epoch 47/100\n",
            "109/109 [==============================] - 22s 198ms/step - loss: 0.0656 - accuracy: 0.9785\n",
            "Epoch 48/100\n",
            "109/109 [==============================] - 22s 199ms/step - loss: 0.0628 - accuracy: 0.9784\n",
            "Epoch 49/100\n",
            "109/109 [==============================] - 22s 197ms/step - loss: 0.0559 - accuracy: 0.9810\n",
            "Epoch 50/100\n",
            "109/109 [==============================] - 22s 199ms/step - loss: 0.0501 - accuracy: 0.9856\n",
            "Epoch 51/100\n",
            "109/109 [==============================] - 22s 199ms/step - loss: 0.0523 - accuracy: 0.9824\n",
            "Epoch 52/100\n",
            "109/109 [==============================] - 22s 198ms/step - loss: 0.0605 - accuracy: 0.9781\n",
            "Epoch 53/100\n",
            "109/109 [==============================] - 22s 197ms/step - loss: 0.0473 - accuracy: 0.9818\n",
            "Epoch 54/100\n",
            "109/109 [==============================] - 22s 199ms/step - loss: 0.0486 - accuracy: 0.9862\n",
            "Epoch 55/100\n",
            "109/109 [==============================] - 22s 199ms/step - loss: 0.0449 - accuracy: 0.9851\n",
            "Epoch 56/100\n",
            "109/109 [==============================] - 21s 197ms/step - loss: 0.0540 - accuracy: 0.9826\n",
            "Epoch 57/100\n",
            "109/109 [==============================] - 22s 198ms/step - loss: 0.0456 - accuracy: 0.9851\n",
            "Epoch 58/100\n",
            "109/109 [==============================] - 21s 195ms/step - loss: 0.0438 - accuracy: 0.9855\n",
            "Epoch 59/100\n",
            "109/109 [==============================] - 22s 201ms/step - loss: 0.0509 - accuracy: 0.9845\n",
            "Epoch 60/100\n",
            "109/109 [==============================] - 22s 199ms/step - loss: 0.0546 - accuracy: 0.9813\n",
            "Epoch 61/100\n",
            "109/109 [==============================] - 21s 196ms/step - loss: 0.0494 - accuracy: 0.9826\n",
            "Epoch 62/100\n",
            "109/109 [==============================] - 22s 198ms/step - loss: 0.0418 - accuracy: 0.9856\n",
            "Epoch 63/100\n",
            "109/109 [==============================] - 22s 198ms/step - loss: 0.0448 - accuracy: 0.9839\n",
            "Epoch 64/100\n",
            "109/109 [==============================] - 22s 198ms/step - loss: 0.0304 - accuracy: 0.9896\n",
            "Epoch 65/100\n",
            "109/109 [==============================] - 21s 196ms/step - loss: 0.0632 - accuracy: 0.9806\n",
            "Epoch 66/100\n",
            "109/109 [==============================] - 22s 200ms/step - loss: 0.0434 - accuracy: 0.9871\n",
            "Epoch 67/100\n",
            "109/109 [==============================] - 22s 198ms/step - loss: 0.0449 - accuracy: 0.9864\n",
            "Epoch 68/100\n",
            "109/109 [==============================] - 22s 199ms/step - loss: 0.0412 - accuracy: 0.9841\n",
            "Epoch 69/100\n",
            "109/109 [==============================] - 22s 201ms/step - loss: 0.0409 - accuracy: 0.9873\n",
            "Epoch 70/100\n",
            "109/109 [==============================] - 22s 200ms/step - loss: 0.0419 - accuracy: 0.9857\n",
            "Epoch 71/100\n",
            "109/109 [==============================] - 22s 199ms/step - loss: 0.0443 - accuracy: 0.9879\n",
            "Epoch 72/100\n",
            "109/109 [==============================] - 22s 198ms/step - loss: 0.0465 - accuracy: 0.9840\n",
            "Epoch 73/100\n",
            "109/109 [==============================] - 22s 200ms/step - loss: 0.0420 - accuracy: 0.9860\n",
            "Epoch 74/100\n",
            "109/109 [==============================] - 22s 200ms/step - loss: 0.0520 - accuracy: 0.9850\n",
            "Epoch 75/100\n",
            "109/109 [==============================] - 21s 197ms/step - loss: 0.0360 - accuracy: 0.9849\n",
            "Epoch 76/100\n",
            "109/109 [==============================] - 22s 198ms/step - loss: 0.0449 - accuracy: 0.9862\n",
            "Epoch 77/100\n",
            "109/109 [==============================] - 22s 201ms/step - loss: 0.0340 - accuracy: 0.9891\n",
            "Epoch 78/100\n",
            "109/109 [==============================] - 22s 197ms/step - loss: 0.0355 - accuracy: 0.9853\n",
            "Epoch 79/100\n",
            "109/109 [==============================] - 21s 197ms/step - loss: 0.0437 - accuracy: 0.9849\n",
            "Epoch 80/100\n",
            "109/109 [==============================] - 22s 198ms/step - loss: 0.0350 - accuracy: 0.9900\n",
            "Epoch 81/100\n",
            "109/109 [==============================] - 22s 197ms/step - loss: 0.0411 - accuracy: 0.9873\n",
            "Epoch 82/100\n",
            "109/109 [==============================] - 22s 198ms/step - loss: 0.0402 - accuracy: 0.9856\n",
            "Epoch 83/100\n",
            "109/109 [==============================] - 22s 198ms/step - loss: 0.0371 - accuracy: 0.9887\n",
            "Epoch 84/100\n",
            "109/109 [==============================] - 22s 200ms/step - loss: 0.0340 - accuracy: 0.9894\n",
            "Epoch 85/100\n",
            "109/109 [==============================] - 22s 199ms/step - loss: 0.0376 - accuracy: 0.9875\n",
            "Epoch 86/100\n",
            "109/109 [==============================] - 22s 200ms/step - loss: 0.0309 - accuracy: 0.9905\n",
            "Epoch 87/100\n",
            "109/109 [==============================] - 21s 197ms/step - loss: 0.0328 - accuracy: 0.9904\n",
            "Epoch 88/100\n",
            "109/109 [==============================] - 22s 202ms/step - loss: 0.0362 - accuracy: 0.9868\n",
            "Epoch 89/100\n",
            "109/109 [==============================] - 22s 198ms/step - loss: 0.0452 - accuracy: 0.9875\n",
            "Epoch 90/100\n",
            "109/109 [==============================] - 22s 201ms/step - loss: 0.0354 - accuracy: 0.9880\n",
            "Epoch 91/100\n",
            "109/109 [==============================] - 22s 198ms/step - loss: 0.0347 - accuracy: 0.9864\n",
            "Epoch 92/100\n",
            "109/109 [==============================] - 22s 199ms/step - loss: 0.0470 - accuracy: 0.9840\n",
            "Epoch 93/100\n",
            "109/109 [==============================] - 22s 199ms/step - loss: 0.0423 - accuracy: 0.9865\n",
            "Epoch 94/100\n",
            "109/109 [==============================] - 22s 198ms/step - loss: 0.0347 - accuracy: 0.9879\n",
            "Epoch 95/100\n",
            "109/109 [==============================] - 22s 199ms/step - loss: 0.0264 - accuracy: 0.9916\n",
            "Epoch 96/100\n",
            "109/109 [==============================] - 22s 200ms/step - loss: 0.0356 - accuracy: 0.9899\n",
            "Epoch 97/100\n",
            "109/109 [==============================] - 22s 198ms/step - loss: 0.0340 - accuracy: 0.9887\n",
            "Epoch 98/100\n",
            "109/109 [==============================] - 22s 200ms/step - loss: 0.0265 - accuracy: 0.9923\n",
            "Epoch 99/100\n",
            "109/109 [==============================] - 22s 199ms/step - loss: 0.0282 - accuracy: 0.9902\n",
            "Epoch 100/100\n",
            "109/109 [==============================] - 22s 200ms/step - loss: 0.0350 - accuracy: 0.9890\n"
          ],
          "name": "stdout"
        }
      ]
    },
    {
      "cell_type": "code",
      "metadata": {
        "id": "b7lHykDw_IV1",
        "colab_type": "code",
        "outputId": "a56e2db3-d924-4bf3-8578-72e44233e7c1",
        "colab": {
          "base_uri": "https://localhost:8080/",
          "height": 51
        }
      },
      "source": [
        "final_loss, final_accuracy = model.evaluate(x_test, y_test)\n",
        "print('Final Loss1: {}, Final Accuracy1: {}'.format(final_loss, final_accuracy))"
      ],
      "execution_count": 27,
      "outputs": [
        {
          "output_type": "stream",
          "text": [
            "420/420 [==============================] - 3s 8ms/step\n",
            "Final Loss1: 0.8083502083528964, Final Accuracy1: 0.8476190567016602\n"
          ],
          "name": "stdout"
        }
      ]
    },
    {
      "cell_type": "code",
      "metadata": {
        "trusted": true,
        "id": "FJbAAUbGx_qv",
        "colab_type": "code",
        "outputId": "a1c3810c-64a0-47d5-dc9c-3505bc7cb3f9",
        "colab": {
          "base_uri": "https://localhost:8080/",
          "height": 54
        }
      },
      "source": [
        "\n",
        "'''model.save('scene_inception_3_2.h5')\n",
        "history=model.history\n",
        "joblib.dump((history), \"scene_trainHistory2.pkl\", compress=3)\n",
        "loss,acc=model.evaluate_generator(test_generator,steps=vaild_generator.n/batch_size)\n",
        "print('Test result:loss:%f,acc:%f'%(loss,acc))\n",
        "\n",
        "plt.plot(history.history['accuracy'])\n",
        "plt.plot(history.history['val_accuracy'])\n",
        "plt.title('Model accuracy')\n",
        "plt.ylabel('Accuracy')\n",
        "plt.xlabel('Epoch')\n",
        "plt.legend(['Train', 'Test'], loc='upper left')\n",
        "plt.savefig(\"scene_acc.png\")\n",
        "plt.show()\n",
        "\n",
        "plt.plot(history.history['loss'])\n",
        "plt.plot(history.history['val_loss'])\n",
        "plt.title('Model loss')\n",
        "plt.ylabel('Loss')\n",
        "plt.xlabel('Epoch')\n",
        "plt.legend(['Train', 'Test'], loc='upper left')\n",
        "plt.savefig(\"scene_loss.png\")\n",
        "plt.show()'''\n"
      ],
      "execution_count": 28,
      "outputs": [
        {
          "output_type": "execute_result",
          "data": {
            "text/plain": [
              "'model.save(\\'scene_inception_3_2.h5\\')\\nhistory=model.history\\njoblib.dump((history), \"scene_trainHistory2.pkl\", compress=3)\\nloss,acc=model.evaluate_generator(test_generator,steps=vaild_generator.n/batch_size)\\nprint(\\'Test result:loss:%f,acc:%f\\'%(loss,acc))\\n\\nplt.plot(history.history[\\'accuracy\\'])\\nplt.plot(history.history[\\'val_accuracy\\'])\\nplt.title(\\'Model accuracy\\')\\nplt.ylabel(\\'Accuracy\\')\\nplt.xlabel(\\'Epoch\\')\\nplt.legend([\\'Train\\', \\'Test\\'], loc=\\'upper left\\')\\nplt.savefig(\"scene_acc.png\")\\nplt.show()\\n\\nplt.plot(history.history[\\'loss\\'])\\nplt.plot(history.history[\\'val_loss\\'])\\nplt.title(\\'Model loss\\')\\nplt.ylabel(\\'Loss\\')\\nplt.xlabel(\\'Epoch\\')\\nplt.legend([\\'Train\\', \\'Test\\'], loc=\\'upper left\\')\\nplt.savefig(\"scene_loss.png\")\\nplt.show()'"
            ]
          },
          "metadata": {
            "tags": []
          },
          "execution_count": 28
        }
      ]
    },
    {
      "cell_type": "code",
      "metadata": {
        "id": "Et_56TFECM67",
        "colab_type": "code",
        "outputId": "37656f79-b1ee-4b87-dad8-52cf7bfa8e9d",
        "colab": {
          "base_uri": "https://localhost:8080/",
          "height": 136
        }
      },
      "source": [
        "# getting predictions on val set.\n",
        "pred=model.predict(x_test)\n",
        "pred_digits=np.argmax(pred,axis=1)\n",
        "\n",
        "print(pred)"
      ],
      "execution_count": 29,
      "outputs": [
        {
          "output_type": "stream",
          "text": [
            "[[9.7592586e-01 1.5248933e-07 4.1192280e-12 2.4073975e-02 2.8484529e-14]\n",
            " [9.9999750e-01 1.2172317e-06 3.1482683e-10 1.1641364e-06 1.6359213e-07]\n",
            " [1.0000000e+00 6.7614425e-14 2.6575483e-18 1.2385680e-13 1.9706196e-16]\n",
            " ...\n",
            " [6.4420621e-13 3.8100054e-15 9.9994981e-01 2.7320533e-12 5.0208750e-05]\n",
            " [2.1963310e-04 2.2251292e-03 9.7942400e-01 1.7265147e-02 8.6605275e-04]\n",
            " [2.2171999e-12 3.7678740e-12 1.0000000e+00 1.2293215e-12 3.1953543e-10]]\n"
          ],
          "name": "stdout"
        }
      ]
    },
    {
      "cell_type": "code",
      "metadata": {
        "id": "5-OMrJErCVaD",
        "colab_type": "code",
        "outputId": "9bafc9e1-5b45-4837-b893-58ea651fd654",
        "colab": {
          "base_uri": "https://localhost:8080/",
          "height": 706
        }
      },
      "source": [
        "Y_pred = np.argmax(pred, axis=1)\n",
        "Y_true = np.argmax(y_test, axis=1)\n",
        "\n",
        "cm = confusion_matrix(Y_true, Y_pred)\n",
        "plt.figure(figsize=(12, 12))\n",
        "ax = sns.heatmap(cm, cmap=plt.cm.Greens, annot=True, square=True)\n",
        "ax.set_ylabel('Actual', fontsize=40)\n",
        "ax.set_xlabel('Predicted', fontsize=40)"
      ],
      "execution_count": 30,
      "outputs": [
        {
          "output_type": "execute_result",
          "data": {
            "text/plain": [
              "Text(0.5, 145.31999999999996, 'Predicted')"
            ]
          },
          "metadata": {
            "tags": []
          },
          "execution_count": 30
        },
        {
          "output_type": "display_data",
          "data": {
            "image/png": "[encoded data removed]",
            "text/plain": [
              "<Figure size 864x864 with 2 Axes>"
            ]
          },
          "metadata": {
            "tags": [],
            "needs_background": "light"
          }
        }
      ]
    },
    {
      "cell_type": "code",
      "metadata": {
        "id": "B2cmj5XTQ944",
        "colab_type": "code",
        "colab": {}
      },
      "source": [
        ""
      ],
      "execution_count": 0,
      "outputs": []
    }
  ]
}